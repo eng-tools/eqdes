{
  "cells": [
    {
      "cell_type": "markdown",
      "metadata": {
        "collapsed": true,
        "pycharm": {
          "name": "#%% md\n"
        }
      },
      "source": "# Design a frame using DDBD\n\n### Load inline plotting and auto-reload commands"
    },
    {
      "cell_type": "code",
      "execution_count": 1,
      "outputs": [],
      "source": "%load_ext autoreload\n%autoreload 2\n%matplotlib inline\n\n",
      "metadata": {
        "pycharm": {
          "metadata": false,
          "name": "#%%\n",
          "is_executing": false
        }
      }
    },
    {
      "cell_type": "code",
      "execution_count": 2,
      "outputs": [],
      "source": "import os\nos.chdir(\u0027..\u0027)  # set working directory to project directory\n",
      "metadata": {
        "pycharm": {
          "metadata": false,
          "name": "#%%\n",
          "is_executing": false
        }
      }
    },
    {
      "cell_type": "code",
      "execution_count": 4,
      "outputs": [],
      "source": "import numpy as np\nimport eqdes\n",
      "metadata": {
        "pycharm": {
          "metadata": false,
          "name": "#%%\n",
          "is_executing": false
        }
      }
    },
    {
      "cell_type": "markdown",
      "source": "### Define a building and earthquake design hazard",
      "metadata": {
        "pycharm": {
          "metadata": false,
          "name": "#%% md\n"
        }
      }
    },
    {
      "cell_type": "code",
      "execution_count": 5,
      "outputs": [],
      "source": "\n# Building inputs\nnumber_of_storeys \u003d 6\nnumber_of_bays \u003d 3\nfb \u003d eqdes.models.FrameBuilding(n_storeys\u003dnumber_of_storeys, n_bays\u003dnumber_of_bays)\ninterstorey_height \u003d 3.4  # m\nmasses \u003d 40.0e3  # kg\n\nfb.interstorey_heights \u003d interstorey_height * np.ones(number_of_storeys)\nfb.floor_length \u003d 18.0  # m\nfb.floor_width \u003d 16.0  # m\nfb.storey_masses \u003d masses * np.ones(number_of_storeys)  # kg\n\nfb.bay_lengths \u003d [6., 6.0, 6.0]\nfb.set_beam_prop(\"depth\", [.5, .5, .5])\nfb.n_seismic_frames \u003d 3\nfb.n_gravity_frames \u003d 0\n\n# Hazard inputs\nhz \u003d eqdes.models.Hazard()\nhz.z_factor \u003d 0.3  # Hazard factor\nhz.r_factor \u003d 1.0  # Return period factor\nhz.n_factor \u003d 1.0  # Near-fault factor\nhz.magnitude \u003d 7.5  # Magnitude of earthquake\nhz.corner_period \u003d 4.0  # s\nhz.corner_acc_factor \u003d 0.55\n",
      "metadata": {
        "pycharm": {
          "metadata": false,
          "name": "#%%\n",
          "is_executing": false
        }
      }
    },
    {
      "cell_type": "markdown",
      "source": "## Run the design and assert the outputs\n",
      "metadata": {
        "pycharm": {
          "metadata": false,
          "name": "#%% md\n"
        }
      }
    },
    {
      "cell_type": "code",
      "execution_count": 8,
      "outputs": [
        {
          "name": "stdout",
          "text": [
            "DESIGN COMPLETE\n"
          ],
          "output_type": "stream"
        }
      ],
      "source": "\nframe_ddbd \u003d eqdes.ddbd.dbd_frame(fb, hz)\n\nassert np.isclose(frame_ddbd.delta_d, 0.2400, rtol\u003d0.001), frame_ddbd.delta_d\nassert np.isclose(frame_ddbd.mass_eff, 67841.581, rtol\u003d0.001), frame_ddbd.mass_eff\nassert np.isclose(frame_ddbd.height_eff, 14.34915, rtol\u003d0.001), frame_ddbd.height_eff\nassert np.isclose(frame_ddbd.mu, 1.689, rtol\u003d0.001), frame_ddbd.mu\nassert np.isclose(frame_ddbd.theta_y, 0.0099, rtol\u003d0.001), frame_ddbd.theta_y\nassert np.isclose(frame_ddbd.xi, 0.123399, rtol\u003d0.001), frame_ddbd.xi\nassert np.isclose(frame_ddbd.eta, 0.69867, rtol\u003d0.001), frame_ddbd.eta\nassert np.isclose(frame_ddbd.t_eff, 2.09646, rtol\u003d0.001), frame_ddbd.t_eff\nprint(\"DESIGN COMPLETE\")\n",
      "metadata": {
        "pycharm": {
          "metadata": false,
          "name": "#%%\n",
          "is_executing": false
        }
      }
    }
  ],
  "metadata": {
    "language_info": {
      "codemirror_mode": {
        "name": "ipython",
        "version": 2
      },
      "file_extension": ".py",
      "mimetype": "text/x-python",
      "name": "python",
      "nbconvert_exporter": "python",
      "pygments_lexer": "ipython2",
      "version": "2.7.6"
    },
    "kernelspec": {
      "name": "python3",
      "language": "python",
      "display_name": "Python 3"
    }
  },
  "nbformat": 4,
  "nbformat_minor": 0
}